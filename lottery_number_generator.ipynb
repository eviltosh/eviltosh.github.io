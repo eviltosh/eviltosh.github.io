{
 "cells": [
  {
   "cell_type": "code",
   "execution_count": 1,
   "metadata": {},
   "outputs": [
    {
     "name": "stdout",
     "output_type": "stream",
     "text": [
      "How many times do you want to play the Lottery6\n",
      "\n",
      "Number  1\n",
      "9 9 4 9 9 5 \n",
      "Number  2\n",
      "3 6 2 4 3 3 \n",
      "Number  3\n",
      "0 9 7 2 2 6 \n",
      "Number  4\n",
      "1 7 6 8 9 8 \n",
      "Number  5\n",
      "7 2 9 3 6 5 \n",
      "Number  6\n",
      "6 9 5 8 6 1 Play Again? input yesno\n",
      "Thanks for Playing!!!\n"
     ]
    }
   ],
   "source": [
    "import random\n",
    "rng=random.Random()\n",
    "while True:\n",
    "    plays=int(input(\"How many times do you want to play the Lottery\"))\n",
    "    for i in range(plays):\n",
    "        print(\"\\nNumber \",i+1)\n",
    "        for e in range(6):\n",
    "            number=rng.randrange(10)\n",
    "            print(number,end=\" \")\n",
    "    again=input(\"Play Again? input yes \")\n",
    "    if again !=\"yes\":\n",
    "        break\n",
    "print(\"Thanks for Playing!!!\")    "
   ]
  },
  {
   "cell_type": "code",
   "execution_count": null,
   "metadata": {},
   "outputs": [],
   "source": []
  },
  {
   "cell_type": "code",
   "execution_count": null,
   "metadata": {},
   "outputs": [],
   "source": []
  }
 ],
 "metadata": {
  "kernelspec": {
   "display_name": "Python 3",
   "language": "python",
   "name": "python3"
  },
  "language_info": {
   "codemirror_mode": {
    "name": "ipython",
    "version": 3
   },
   "file_extension": ".py",
   "mimetype": "text/x-python",
   "name": "python",
   "nbconvert_exporter": "python",
   "pygments_lexer": "ipython3",
   "version": "3.7.3"
  }
 },
 "nbformat": 4,
 "nbformat_minor": 2
}
