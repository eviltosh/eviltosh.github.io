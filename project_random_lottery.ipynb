{
 "cells": [
  {
   "cell_type": "code",
   "execution_count": 1,
   "metadata": {},
   "outputs": [
    {
     "ename": "SyntaxError",
     "evalue": "'break' outside loop (<ipython-input-1-3b101aba8893>, line 15)",
     "output_type": "error",
     "traceback": [
      "\u001b[1;36m  File \u001b[1;32m\"<ipython-input-1-3b101aba8893>\"\u001b[1;36m, line \u001b[1;32m15\u001b[0m\n\u001b[1;33m    \u001b[0m\n\u001b[1;37m    ^\u001b[0m\n\u001b[1;31mSyntaxError\u001b[0m\u001b[1;31m:\u001b[0m 'break' outside loop\n"
     ]
    }
   ],
   "source": [
    "import random\n",
    "rng=random.Random()\n",
    "plays=int(input(\"How many times would you like to play\\n\"))\n",
    "for i in range(plays):\n",
    "    print(\"\\nNumber \",i+1)\n",
    "    for e in range(6):\n",
    "        number=rng.randrange(10)\n",
    "        print(number,end=\" \")\n",
    "        \n",
    "play=input(\"Play Again?\")\n",
    "if play !=\"Yes\":\n",
    "    break\n",
    "    \n",
    " \n",
    "    \n",
    "            \n",
    "        \n",
    "    \n",
    "                \n",
    "                \n",
    "           \n",
    "            \n",
    "        "
   ]
  },
  {
   "cell_type": "code",
   "execution_count": null,
   "metadata": {},
   "outputs": [],
   "source": []
  }
 ],
 "metadata": {
  "kernelspec": {
   "display_name": "Python 3",
   "language": "python",
   "name": "python3"
  },
  "language_info": {
   "codemirror_mode": {
    "name": "ipython",
    "version": 3
   },
   "file_extension": ".py",
   "mimetype": "text/x-python",
   "name": "python",
   "nbconvert_exporter": "python",
   "pygments_lexer": "ipython3",
   "version": "3.7.3"
  }
 },
 "nbformat": 4,
 "nbformat_minor": 2
}
